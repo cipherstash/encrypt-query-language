{
 "cells": [
  {
   "cell_type": "markdown",
   "id": "6f628465-5dfb-4f76-9a65-4a761cf2b940",
   "metadata": {},
   "source": [
    "# Getting Started with CipherStash and Jupyter Notebook\n",
    "\n",
    "This notebook describes how to get started with CipherStash using Python3, Jupyter Notebook, and psycopg2.\n",
    "\n",
    "## Prerequisites\n",
    "\n",
    "You must have:\n",
    "* [Python 3](https://www.python.org/)\n",
    "* [Jupyter Notebook](https://jupyter.org/install)\n",
    "* [Docker](https://docs.docker.com/get-started/get-docker/)\n",
    "* [Docker compose](https://docs.docker.com/compose/install/)\n",
    "* [CipherStash account](https://cipherstash.com/signup)\n",
    "* [CipherStash CLI](https://github.com/cipherstash/cli-releases/releases/latest)"
   ]
  },
  {
   "cell_type": "markdown",
   "id": "77e69c79-c3f6-4c5c-a746-449034b71ac3",
   "metadata": {},
   "source": [
    "## Start CipherStash Proxy and PostgreSQL\n",
    "\n",
    "To start CipherStash Proxy and PostgreSQL on your machine, use the included `docker-compose.yml`.\n",
    "This file requires you to set up a few environment variables:\n",
    "\n",
    "* `CS_WORKSPACE_ID`\n",
    "* `CS_CLIENT_ACCESS_KEY`\n",
    "* `CS_ENCRYPTION__CLIENT_ID`\n",
    "* `CS_ENCRYPTION__CLIENT_KEY`\n",
    "\n",
    "There are other variables but default values are set for them in `docker-compose.yml`.\n",
    "Change them if necessary to suit your setup.\n",
    "\n",
    "If have the values for these variables available, you can skip to the **\"Upload dataset config\"** section.\n",
    "Otherwise, sign up to [CipherStash](https://cipherstash.com/signup), install [CipherStash CLI](https://github.com/cipherstash/cli-releases/releases/latest), and do the following steps:"
   ]
  },
  {
   "cell_type": "markdown",
   "id": "0d2fd39b-86a2-4e34-a214-7c9bf13f9579",
   "metadata": {},
   "source": [
    "### Log into the workspace\n",
    "\n",
    "Check that you have `stash` command available in your PATH, and run the command below and follow the instructions.\n",
    "You will be either automatically be logged into your workspace, or be prompted to log into one of them.\n",
    "Note the **Workspace ID** shown here."
   ]
  },
  {
   "cell_type": "code",
   "execution_count": null,
   "id": "4d87342c-7039-44da-991e-e0ee56221820",
   "metadata": {},
   "outputs": [],
   "source": [
    "! stash login"
   ]
  },
  {
   "cell_type": "markdown",
   "id": "3e82b124-9fa2-4ec7-a9a2-f46a3d439a6c",
   "metadata": {},
   "source": [
    "### Create an access key\n",
    "\n",
    "> **NOTE**: If you already have an access key and prefer to use that rather than create a new one, you can use it instead. However, it is recommended that you create one here to use with this notebook.\n",
    "\n",
    "Now you need to create an access key for the workspace.\n",
    "Run the following command and securely store the values for **CS_CLIENT_ACCESS_KEY** as you will not be able to recover it if you lose it.\n",
    "The `CS_WORKSPACE_ID` should be the same value as the Workspace ID shown at the step above."
   ]
  },
  {
   "cell_type": "code",
   "execution_count": null,
   "id": "1e616ebe-dad6-430c-bfa4-8792390bb939",
   "metadata": {},
   "outputs": [],
   "source": [
    "! stash access-keys create cipherstash_getting_started_access_key"
   ]
  },
  {
   "cell_type": "markdown",
   "id": "cb1c0f92-4d25-4840-9546-b14df14475bc",
   "metadata": {},
   "source": [
    "### Create a dataset\n",
    "\n",
    "> **NOTE**: If you already have a dataset and prefer to use that rather than create a new one, you can use it instead. However, it is recommended that you create one here to use with this notebook.\n",
    "\n",
    "After logging into your workspace, run the following command to create a new dataset, and note the **dataset ID**."
   ]
  },
  {
   "cell_type": "code",
   "execution_count": null,
   "id": "0d3a062d-934d-4c8f-9602-06df26cdee62",
   "metadata": {},
   "outputs": [],
   "source": [
    "! stash datasets create cipherstash_getting_started"
   ]
  },
  {
   "cell_type": "markdown",
   "id": "83021895-8447-4ced-8d1e-3697171c9495",
   "metadata": {},
   "source": [
    "### Create a client\n",
    "\n",
    "> **NOTE**: If you already have a client and prefer to use that rather than create a new one, you can use it instead. However, it is recommended that you create one here to use with this notebook.\n",
    "\n",
    "Set the `CS_DATASET_ID` to the dataset ID value from the command above.\n",
    "After that, run the command to create a client.\n",
    "Note the **Client ID** and **Client Key** in the output."
   ]
  },
  {
   "cell_type": "code",
   "execution_count": null,
   "id": "6c1eb80b-5fda-4cf6-b59e-3ff87e3bbcb8",
   "metadata": {},
   "outputs": [],
   "source": [
    "%env CS_DATASET_ID=<dataset_id>"
   ]
  },
  {
   "cell_type": "code",
   "execution_count": null,
   "id": "38c608ec-331e-4dec-ab44-caeabbc38d58",
   "metadata": {
    "scrolled": true
   },
   "outputs": [],
   "source": [
    "! stash clients create --dataset-id $CS_DATASET_ID cipherstash_getting_started_client"
   ]
  },
  {
   "cell_type": "markdown",
   "id": "0ff6337a-7619-47ea-b8bc-437a6c1d0254",
   "metadata": {},
   "source": [
    "## Upload dataset config\n",
    "\n",
    "There is a dataset configuration file provided as `dataset.yml` for the example table we will create.\n",
    "You have to upload it to ZeroKMS so Proxy will know what to do with each column.\n",
    "Replace the `<client_id>` and `<client_key>` values in the following `%env` to set the environment variables.\n",
    "After that, run the command.\n",
    "It should upload the configuration."
   ]
  },
  {
   "cell_type": "code",
   "execution_count": null,
   "id": "c9f9a859-9f64-4cd3-a4b5-f55fc8654659",
   "metadata": {},
   "outputs": [],
   "source": [
    "%env CS_CLIENT_ID=<client_id>"
   ]
  },
  {
   "cell_type": "code",
   "execution_count": null,
   "id": "3f8a545d-4e45-4347-bef1-da0e11923b3c",
   "metadata": {},
   "outputs": [],
   "source": [
    "%env CS_CLIENT_KEY=<client_key>"
   ]
  },
  {
   "cell_type": "code",
   "execution_count": null,
   "id": "c29f4da8-34e1-4573-b393-254ec6b283da",
   "metadata": {},
   "outputs": [],
   "source": [
    "! yes | head -n 1 | stash datasets config upload --file dataset.yml --client-id $CS_CLIENT_ID --client-key $CS_CLIENT_KEY"
   ]
  },
  {
   "cell_type": "markdown",
   "id": "fe337548-771c-4d62-a912-2a80e4f9a2d8",
   "metadata": {},
   "source": [
    "## Run docker compose\n",
    "\n",
    "With the values for `CS_WORKSPACE_ID`, `CS_CLIENT_ACCESS_KEY`, `CS_ENCRYPTION__CLIENT_ID` and `CS_ENCRYPTION__CLIENT_KEY`, and `dataset.yml` uploaded, it's time to start PostgreSQL and Cipherstash Proxy.\n",
    "\n",
    "Replace `<workspace_id>`, `<client_access_key>`, `<client_id>` and `<client_key>` with the values from the steps above and set those environment variables.\n",
    "After setting those variables, run the `docker compose` commands. docker compose should successfully start the database and Proxy."
   ]
  },
  {
   "cell_type": "code",
   "execution_count": null,
   "id": "b082598f-acc8-47bc-b561-c0f07d059f4b",
   "metadata": {
    "scrolled": true
   },
   "outputs": [],
   "source": [
    "%env CS_WORKSPACE_ID=<workspace_id> "
   ]
  },
  {
   "cell_type": "code",
   "execution_count": null,
   "id": "e01757fa-0d70-4d53-b33d-88bf02449d3c",
   "metadata": {
    "scrolled": true
   },
   "outputs": [],
   "source": [
    "%env CS_CLIENT_ACCESS_KEY=<client_access_key>"
   ]
  },
  {
   "cell_type": "code",
   "execution_count": null,
   "id": "348e6430-dae7-4183-8eab-46315b622f1c",
   "metadata": {
    "scrolled": true
   },
   "outputs": [],
   "source": [
    "%env CS_ENCRYPTION__CLIENT_ID=<client_id>"
   ]
  },
  {
   "cell_type": "code",
   "execution_count": null,
   "id": "e8ac364e-98a1-4687-b11e-4b935b6d8b70",
   "metadata": {
    "scrolled": true
   },
   "outputs": [],
   "source": [
    "%env CS_ENCRYPTION__CLIENT_KEY=<client_key>"
   ]
  },
  {
   "cell_type": "code",
   "execution_count": null,
   "id": "dd60b2fa-14c0-4206-b5c8-74b8d83b1086",
   "metadata": {},
   "outputs": [],
   "source": [
    "! docker compose up -d"
   ]
  },
  {
   "cell_type": "markdown",
   "id": "d9df0769-503c-4921-bb83-f4ff2a5f8a6d",
   "metadata": {},
   "source": [
    "## Installing required components and table creation\n",
    "\n",
    "Once the containers are up, there are a few things to be installed.\n",
    "A table must also be created to store encrypted data.\n",
    "Do the following steps to install them and create a table."
   ]
  },
  {
   "cell_type": "markdown",
   "id": "85888d9c-388b-4026-aaac-d72cedbec99f",
   "metadata": {},
   "source": [
    "### Install database extensions"
   ]
  },
  {
   "cell_type": "code",
   "execution_count": null,
   "id": "4e7763c1-4155-4fe3-ab40-ef359adb7ca8",
   "metadata": {},
   "outputs": [],
   "source": [
    "! PGPASSWORD=postgres psql -h localhost -p 5432 -U postgres cipherstash_getting_started < install.sql # should output messages like `CREATE *`"
   ]
  },
  {
   "cell_type": "markdown",
   "id": "d91bc1e4-9a22-4561-bc37-052adaaf4cef",
   "metadata": {},
   "source": [
    "### Install EQL"
   ]
  },
  {
   "cell_type": "code",
   "execution_count": null,
   "id": "dbfe2a97-f392-48e9-be64-e906684015b3",
   "metadata": {},
   "outputs": [],
   "source": [
    "! PGPASSWORD=postgres psql -h localhost -p 5432 -U postgres cipherstash_getting_started < cipherstash_encrypt_eql.sql # should output messages like `CREATE *`"
   ]
  },
  {
   "cell_type": "markdown",
   "id": "9b4dbe41-2fd5-4335-be55-19058190cd30",
   "metadata": {},
   "source": [
    "### Install application specific database types"
   ]
  },
  {
   "cell_type": "code",
   "execution_count": null,
   "id": "505766c0-8c17-432f-943f-875615c88e09",
   "metadata": {},
   "outputs": [],
   "source": [
    "! PGPASSWORD=postgres psql -h localhost -p 5432 -U postgres cipherstash_getting_started < application_types.sql # should output messages like `CREATE DOMAIN`"
   ]
  },
  {
   "cell_type": "markdown",
   "id": "8d8648b8-8b88-4794-9528-e781639a2f0c",
   "metadata": {},
   "source": [
    "### Create a table for testing encryption"
   ]
  },
  {
   "cell_type": "code",
   "execution_count": null,
   "id": "56e04d28-4ebc-463a-b7d0-1ea3cf843f1b",
   "metadata": {},
   "outputs": [],
   "source": [
    "! PGPASSWORD=postgres psql -h localhost -p 5432 -U postgres cipherstash_getting_started < create_examples_table.sql"
   ]
  },
  {
   "cell_type": "markdown",
   "id": "7c382e52-20e3-41c3-b4d2-d96ea20a3b07",
   "metadata": {},
   "source": [
    "### Classes that convert between the database format and Python format\n",
    "\n",
    "There are classes prefixed with `defined in `cs_types.py` which handles conversion between the format CypherStash Proxy requires and the format for Python.\n",
    "\n",
    "In order to encrypt and store plaintext values, CipherStash Proxy requires encrypted columns to be in JSONB format like:\n",
    "```\n",
    "{\n",
    "  \"k\": \"pt\",\n",
    "  \"p\": \"hell, world\",\n",
    "  \"i\": {\n",
    "    \"t\": \"examples\",\n",
    "    \"c\": \"encrypted_utf8_str\"\n",
    "  },\n",
    "  \"v\": 1,\n",
    "}\n",
    "```\n",
    "\n",
    "In Python, this conversion can be done by creating an object of `CsText` as:\n",
    "```\n",
    "txt = CsText(\"hell, world\", \"examples\", \"encrypted_utf8_str\")\n",
    "txt.to_db_format()\n",
    "```\n",
    "\n",
    "The constructor for `CsText` takes the string value, the table name (`\"examples\"`) and the column name (`\"encrypted_utf8_str\"`).\n",
    "\n",
    "### Import class definitions\n",
    "\n",
    "Those classes are defined in [cs_types.py](cs_types.py) if you are interested in implementation details."
   ]
  },
  {
   "cell_type": "code",
   "execution_count": null,
   "id": "ebf51d89-41a7-4988-ab8b-b3cee1c35a31",
   "metadata": {},
   "outputs": [],
   "source": [
    "from cs_types import *\n",
    "from psycopg2.extras import RealDictCursor"
   ]
  },
  {
   "cell_type": "markdown",
   "id": "6ac472ff-81d1-418a-998b-975b2b3f3a05",
   "metadata": {},
   "source": [
    "## Insert end query encrypted data\n",
    "\n",
    "With the database extensions, EQL, and application specific data types installed together with the type definitions for Python, your setup is now ready to encrypt and decrypt data."
   ]
  },
  {
   "cell_type": "markdown",
   "id": "0bd5e34e-4840-4398-be46-3cc6b5969e5f",
   "metadata": {},
   "source": [
    "To check what the JSONB format looks like, run the following:"
   ]
  },
  {
   "cell_type": "code",
   "execution_count": null,
   "id": "d2111106-e117-46c2-b1a1-ae8b4bb8598e",
   "metadata": {},
   "outputs": [],
   "source": [
    "CsText(\"hello, python\", \"examples\", \"encrypted_utf8_str\").to_db_format()"
   ]
  },
  {
   "cell_type": "markdown",
   "id": "3c571924-c592-447b-88a7-fef6b50f2114",
   "metadata": {},
   "source": [
    "Insert an example row:"
   ]
  },
  {
   "cell_type": "code",
   "execution_count": null,
   "id": "698c6970-62f0-4cfb-b779-7a5dbbe11d3a",
   "metadata": {},
   "outputs": [],
   "source": [
    "from pprint import pprint\n",
    "from datetime import datetime\n",
    "\n",
    "conn = psycopg2.connect(\"host=localhost dbname=cipherstash_getting_started user=postgres password=postgres port=6432\")\n",
    "\n",
    "cur = conn.cursor(cursor_factory=RealDictCursor)\n",
    "\n",
    "cur.execute(\"delete from examples\") # Clear the table in case there are records from previous runs\n",
    "\n",
    "cur.execute(\"INSERT INTO examples (encrypted_int, encrypted_boolean, encrypted_date, encrypted_float, encrypted_utf8_str) VALUES (%s, %s, %s, %s, %s)\",\n",
    "    (\n",
    "        CsInt(-51, \"examples\", \"encrypted_int\").to_db_format(),\n",
    "        CsBool(False, \"examples\", \"encrypted_boolean\").to_db_format(),\n",
    "        CsDate(datetime.now().date(), \"examples\", \"encrypted_date\").to_db_format(),\n",
    "        CsFloat(-0.5, \"examples\", \"encrypted_float\").to_db_format(),\n",
    "        CsText(\"hello, world\", \"examples\", \"encrypted_utf8_str\").to_db_format()\n",
    "    )\n",
    ")\n",
    "\n",
    "conn.commit()\n",
    "\n",
    "print(\"example row created in examples table\")"
   ]
  },
  {
   "cell_type": "markdown",
   "id": "524c68bc-be47-4887-881b-1af0b365e259",
   "metadata": {},
   "source": [
    "Check What it looks like from both regular PostgreSQL running on port 5432 and CipherStash Proxy running on port 6432:"
   ]
  },
  {
   "cell_type": "code",
   "execution_count": null,
   "id": "9ab7973d-1d63-43cd-81c2-dd69f544deda",
   "metadata": {},
   "outputs": [],
   "source": [
    "# From CipherStash Proxy; you should see plaintext JSONB\n",
    "!printf '\\\\x \\n select * from examples limit 1;' | PGPASSWORD=postgres psql -h localhost -p 6432 -U postgres cipherstash_getting_started"
   ]
  },
  {
   "cell_type": "code",
   "execution_count": null,
   "id": "85597b86-c53f-4df9-87a6-d3eec1730b77",
   "metadata": {},
   "outputs": [],
   "source": [
    "# From PostgreSQL; you should see JSONB with encrypted values\n",
    "!printf '\\\\x \\n select * from examples limit 1;' | PGPASSWORD=postgres psql -h localhost -p 5432 -U postgres cipherstash_getting_started"
   ]
  },
  {
   "cell_type": "markdown",
   "id": "564d2bc7-0c45-4e5f-ba0a-5919961ee9ce",
   "metadata": {},
   "source": [
    "In the above example, not all fields are populated, but the populated fields should contain JSONB values including the encrypted values, with \"k\" set to \"ct\" indicating \"cipher text\"."
   ]
  },
  {
   "cell_type": "markdown",
   "id": "e824d962-97f2-42b1-a9a2-b283576690d6",
   "metadata": {},
   "source": [
    "### Converting to Python types\n",
    "\n",
    "By querying the proxy, you will see the JSONB values as seen above (decrypted version in the Proxy example, not the PostgreSQL example).\n",
    "The values should then be converted to types that can be used in Python using class methods for each type:"
   ]
  },
  {
   "cell_type": "code",
   "execution_count": null,
   "id": "b7acd767-74ae-4717-ab2b-b71156eb9a9f",
   "metadata": {},
   "outputs": [],
   "source": [
    "cur.execute(\"select * from examples\")\n",
    "\n",
    "records = cur.fetchall()\n",
    "\n",
    "record0 = records[0]\n",
    "\n",
    "# `from_parsed_json` methods convert the values into the corresponding Python types\n",
    "print(f\"int: {CsInt.from_parsed_json(record0['encrypted_int'])}\")\n",
    "print(f\"boolean: {CsBool.from_parsed_json(record0['encrypted_boolean'])}\")\n",
    "print(f\"datetime: {CsDate.from_parsed_json(record0['encrypted_date'])}\")\n",
    "print(f\"float: {CsFloat.from_parsed_json(record0['encrypted_float'])}\")\n",
    "print(f\"text: {CsText.from_parsed_json(record0['encrypted_utf8_str'])}\")"
   ]
  },
  {
   "cell_type": "markdown",
   "id": "94e823d5-7ee0-4e32-b820-b8fd9e5adfea",
   "metadata": {},
   "source": [
    "### Querying with the encrypted fields\n",
    "\n",
    "You can also use the encrypted fields for queries.\n",
    "\n",
    "First, add some values so there are more than 1 text values and float values stored:"
   ]
  },
  {
   "cell_type": "code",
   "execution_count": null,
   "id": "36586ea6-09aa-40b0-be4a-17b3c18cfd4e",
   "metadata": {},
   "outputs": [],
   "source": [
    "# data for MATCH\n",
    "cur.execute(\"INSERT INTO examples (encrypted_utf8_str) VALUES (%s) ON CONFLICT DO NOTHING\",\n",
    "    (\n",
    "        CsText(\"hello, python\", \"examples\", \"encrypted_utf8_str\").to_db_format(),\n",
    "    )\n",
    ")\n",
    "\n",
    "cur.execute(\"INSERT INTO examples (encrypted_utf8_str) VALUES (%s) ON CONFLICT DO NOTHING\",\n",
    "    (\n",
    "        CsText(\"hello, jupyter\", \"examples\", \"encrypted_utf8_str\").to_db_format(),\n",
    "    )\n",
    ")\n",
    "\n",
    "# data for ORE\n",
    "cur.execute(\"INSERT INTO examples (encrypted_float) VALUES (%s)\",\n",
    "    (\n",
    "        CsFloat(100.1, \"examples\", \"encrypted_float\").to_db_format(),\n",
    "    )\n",
    ")\n",
    "\n",
    "cur.execute(\"INSERT INTO examples (encrypted_float) VALUES (%s)\",\n",
    "    (\n",
    "        CsFloat(100.2, \"examples\", \"encrypted_float\").to_db_format(),\n",
    "    )\n",
    ")\n",
    "\n",
    "conn.commit()\n",
    "\n",
    "print(\"created data for MATCH and ORE queries\")"
   ]
  },
  {
   "cell_type": "markdown",
   "id": "c2a6b812-980c-4958-a55e-45551cb474c2",
   "metadata": {},
   "source": [
    "Now, a query can be run to look for a record in the `examples` table where `encrypted_utf_8_str` field contains text `\"pyth\"`:"
   ]
  },
  {
   "cell_type": "code",
   "execution_count": null,
   "id": "f9455deb-ea1f-419c-ac72-90f2eb7e76c0",
   "metadata": {},
   "outputs": [],
   "source": [
    "# MATCH query for \"pyth\"\n",
    "cur.execute(\"SELECT * FROM examples WHERE cs_match_v1(encrypted_utf8_str) @> cs_match_v1(%s)\", (CsText(\"pyth\", \"examples\", \"encrypted_utf8_str\").to_db_format(),))\n",
    "\n",
    "found = cur.fetchall()[0]\n",
    "print(f\"Record Found with MATCH query: {CsRow(found).row}\\n\")\n",
    "print(f\"Text inside the found record: {CsText.from_parsed_json(found['encrypted_utf8_str'])}\")"
   ]
  },
  {
   "cell_type": "markdown",
   "id": "410be894-23ff-4aed-b8c4-bc283b53a36d",
   "metadata": {},
   "source": [
    "Similarly, a query for the exact text of `\"hello, jupyter\"` in the `encrypted_utf_8_str` field:"
   ]
  },
  {
   "cell_type": "code",
   "execution_count": null,
   "id": "834ce829-9d12-4d14-bdac-20abb2e76148",
   "metadata": {
    "scrolled": true
   },
   "outputs": [],
   "source": [
    "# UNIQUE\n",
    "cur.execute(\"SELECT * FROM examples WHERE cs_unique_v1(encrypted_utf8_str) = cs_unique_v1(%s)\", (CsText(\"hello, jupyter\", \"examples\", \"encrypted_utf8_str\").to_db_format(),))\n",
    "found = cur.fetchall()[0]\n",
    "print(f\"Record Found with UNIQUE query: {CsRow(found).row}\\n\")\n",
    "print(f\"Text inside the found record: {CsText.from_parsed_json(found['encrypted_utf8_str'])}\")"
   ]
  },
  {
   "cell_type": "markdown",
   "id": "40037eb7-49f9-4a55-8676-4a155056a650",
   "metadata": {},
   "source": [
    "Finally, a query for a record with `encrypted_float` that is larger than `100.15`:"
   ]
  },
  {
   "cell_type": "code",
   "execution_count": null,
   "id": "235a8f52-e816-4bbb-8db9-be9330b4b238",
   "metadata": {},
   "outputs": [],
   "source": [
    "# ORE\n",
    "cur.execute(\"SELECT * FROM examples WHERE cs_ore_64_8_v1(encrypted_float) > cs_ore_64_8_v1(%s)\", (CsFloat(100.15, \"examples\", \"encrypted_float\").to_db_format(),))\n",
    "found = cur.fetchall()[0]\n",
    "print(f\"Record Found with ORE query: {CsRow(found).row}\\n\")\n",
    "print(f\"Float inside the found record: {CsFloat.from_parsed_json(found['encrypted_float'])}\")\n"
   ]
  }
 ],
 "metadata": {
  "kernelspec": {
   "display_name": "Python 3 (ipykernel)",
   "language": "python",
   "name": "python3"
  },
  "language_info": {
   "codemirror_mode": {
    "name": "ipython",
    "version": 3
   },
   "file_extension": ".py",
   "mimetype": "text/x-python",
   "name": "python",
   "nbconvert_exporter": "python",
   "pygments_lexer": "ipython3",
   "version": "3.10.12"
  }
 },
 "nbformat": 4,
 "nbformat_minor": 5
}
